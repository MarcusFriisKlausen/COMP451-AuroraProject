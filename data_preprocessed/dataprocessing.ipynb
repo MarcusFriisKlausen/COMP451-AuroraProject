{
 "cells": [
  {
   "cell_type": "markdown",
   "metadata": {},
   "source": [
    "# Data Processing\n",
    "Notebook for handling the processing of our datasets."
   ]
  },
  {
   "cell_type": "code",
   "execution_count": 1,
   "metadata": {},
   "outputs": [],
   "source": [
    "# depenencies\n",
    "import numpy as np\n",
    "import pandas"
   ]
  },
  {
   "cell_type": "code",
   "execution_count": 2,
   "metadata": {},
   "outputs": [],
   "source": [
    "# read in datasets\n",
    "verifications_2015 = pandas.read_csv(\"2015_pos_verified_tweets_cleaned.csv\", encoding='latin-1', usecols=[\"st_y\", \"st_x\", \"location_country\", \"created_at\"])\n",
    "verifications_2016 = pandas.read_csv(\"2016_pos_verified_tweets_cleaned.csv\", encoding='latin-1', usecols=[\"st_y\", \"st_x\", \"location_country\", \"created_at\"])\n",
    "flare_data = pandas.read_csv(\"flares_and_instruments_v2.csv\", encoding='latin-1')"
   ]
  },
  {
   "cell_type": "code",
   "execution_count": 3,
   "metadata": {},
   "outputs": [],
   "source": [
    "# fixing date-time formats \n",
    "# flare data has (YYYY-MM-DD)'T'(HH:MM:SS)\n",
    "# verification data has (YYYY-MM-DD) (HH:MM:SS)'+00'\n",
    "\n",
    "# make one big dataframe from the 2 verification dataframes\n",
    "verifications = pandas.concat([verifications_2015, verifications_2016], ignore_index=True)\n",
    "\n",
    "# remove '+00' from date-time in verification data\n",
    "f = lambda x: x[:-3]\n",
    "verifications['created_at'] = verifications['created_at'].apply(f)\n",
    "\n",
    "# replace 'T' with ' ' from date-time in flare data\n",
    "g = lambda x: x.replace(\"T\", \" \")\n",
    "flare_data['JJJ Start'] = flare_data['JJJ Start'].apply(g)\n",
    "flare_data['JJJ Peak'] = flare_data['JJJ Peak'].apply(g)\n",
    "flare_data['JJJ End'] = flare_data['JJJ End'].apply(g)\n",
    "\n",
    "# reduce Sol to only be the date in format YYYYMMDD\n",
    "h = lambda x: x[:8]\n",
    "flare_data['Sol'] = flare_data['Sol'].apply(h)\n",
    "\n",
    "# add Sol column to verifications\n",
    "verifications['created_at'] = pandas.to_datetime(verifications['created_at'], errors='coerce')\n",
    "if verifications['created_at'].isnull().any():\n",
    "    print(\"Warning: Some rows have invalid datetime values!\")\n",
    "verifications['Sol'] = verifications['created_at'].dt.strftime('%Y%m%d')"
   ]
  },
  {
   "cell_type": "code",
   "execution_count": 4,
   "metadata": {},
   "outputs": [],
   "source": [
    "# group verifications by date\n",
    "verifications_unique = verifications.groupby('Sol').agg(\n",
    "    {col: lambda x: tuple(x) for col in verifications.columns if col != 'Sol'}\n",
    ").reset_index()\n",
    "\n",
    "# add a column for the number of verifications per date\n",
    "verifications_unique['sighting_count'] = verifications_unique['created_at'].apply(len)\n",
    "\n",
    "# group flare_data by date\n",
    "flare_data_unique = flare_data.groupby('Sol').agg(\n",
    "    {col: lambda x: tuple(x) for col in flare_data.columns if col != 'Sol'}\n",
    ").reset_index()\n",
    "\n",
    "# add a column for the number of flares per date\n",
    "flare_data_unique['Flare Count'] = flare_data_unique['JJJ Class'].apply(len)"
   ]
  },
  {
   "cell_type": "code",
   "execution_count": 5,
   "metadata": {},
   "outputs": [
    {
     "name": "stdout",
     "output_type": "stream",
     "text": [
      "0      1\n",
      "1      7\n",
      "2      2\n",
      "3      6\n",
      "4      2\n",
      "      ..\n",
      "232    2\n",
      "233    1\n",
      "234    2\n",
      "235    1\n",
      "236    2\n",
      "Name: sighting_count, Length: 237, dtype: int64\n"
     ]
    }
   ],
   "source": [
    "print(verifications_unique['sighting_count'])"
   ]
  },
  {
   "cell_type": "code",
   "execution_count": 6,
   "metadata": {},
   "outputs": [],
   "source": [
    "# merge dataframes\n",
    "aurorae = pandas.merge(flare_data_unique, verifications_unique, on='Sol', how='outer')\n",
    "\n",
    "# Add the 'aurora_visible' column\n",
    "aurorae['aurora_visible'] = np.where(aurorae['sighting_count'].notna() & (aurorae['sighting_count'] > 0), 1, 0)\n",
    "\n",
    "# Set 'sightings_count' to 0 where 'aurora_visible' is 0\n",
    "aurorae.loc[aurorae['aurora_visible'] == 0, 'sighting_count'] = 0"
   ]
  },
  {
   "cell_type": "code",
   "execution_count": 7,
   "metadata": {},
   "outputs": [],
   "source": [
    "# save dataset\n",
    "aurorae.to_csv('../data_processed/aurorae_dataset.csv')\n",
    "np.save('../data_processed/aurorae_dataset', aurorae)"
   ]
  },
  {
   "cell_type": "code",
   "execution_count": 10,
   "metadata": {},
   "outputs": [
    {
     "name": "stdout",
     "output_type": "stream",
     "text": [
      "Index(['Sol', 'JJJ Start', 'JJJ Peak', 'JJJ End', 'JJJ Class', 'HHH X-pos',\n",
      "       'HHH y-pos', 'AAA lo', 'AAA hi', 'AAA X-pos', 'AAA Y-pos', 'AAA', 'BBB',\n",
      "       'CCC', 'DDD', 'EEE', 'FFF', 'GGG', 'Flare Count', 'st_y', 'st_x',\n",
      "       'location_country', 'created_at', 'sighting_count', 'aurora_visible'],\n",
      "      dtype='object')\n",
      "Sol                  object\n",
      "JJJ Start            object\n",
      "JJJ Peak             object\n",
      "JJJ End              object\n",
      "JJJ Class            object\n",
      "HHH X-pos            object\n",
      "HHH y-pos            object\n",
      "AAA lo               object\n",
      "AAA hi               object\n",
      "AAA X-pos            object\n",
      "AAA Y-pos            object\n",
      "AAA                  object\n",
      "BBB                  object\n",
      "CCC                  object\n",
      "DDD                  object\n",
      "EEE                  object\n",
      "FFF                  object\n",
      "GGG                  object\n",
      "Flare Count         float64\n",
      "st_y                 object\n",
      "st_x                 object\n",
      "location_country     object\n",
      "created_at           object\n",
      "sighting_count      float64\n",
      "aurora_visible        int64\n",
      "dtype: object\n"
     ]
    }
   ],
   "source": [
    "print(aurorae.columns)\n",
    "print(aurorae.dtypes)"
   ]
  }
 ],
 "metadata": {
  "kernelspec": {
   "display_name": "Python 3",
   "language": "python",
   "name": "python3"
  },
  "language_info": {
   "codemirror_mode": {
    "name": "ipython",
    "version": 3
   },
   "file_extension": ".py",
   "mimetype": "text/x-python",
   "name": "python",
   "nbconvert_exporter": "python",
   "pygments_lexer": "ipython3",
   "version": "3.12.0"
  }
 },
 "nbformat": 4,
 "nbformat_minor": 2
}
